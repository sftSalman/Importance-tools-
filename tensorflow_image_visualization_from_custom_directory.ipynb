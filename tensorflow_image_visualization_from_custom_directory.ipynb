{
  "nbformat": 4,
  "nbformat_minor": 0,
  "metadata": {
    "colab": {
      "name": "tensorflow_image_visualization_from_custom_directory.ipynb",
      "provenance": [],
      "authorship_tag": "ABX9TyOULuuwIkjUtgoty1NI3zFc",
      "include_colab_link": true
    },
    "kernelspec": {
      "name": "python3",
      "display_name": "Python 3"
    },
    "language_info": {
      "name": "python"
    }
  },
  "cells": [
    {
      "cell_type": "markdown",
      "metadata": {
        "id": "view-in-github",
        "colab_type": "text"
      },
      "source": [
        "<a href=\"https://colab.research.google.com/github/sftSalman/Importance-tools-/blob/main/tensorflow_image_visualization_from_custom_directory.ipynb\" target=\"_parent\"><img src=\"https://colab.research.google.com/assets/colab-badge.svg\" alt=\"Open In Colab\"/></a>"
      ]
    },
    {
      "cell_type": "code",
      "execution_count": null,
      "metadata": {
        "id": "XKEDyAmoOYKt"
      },
      "outputs": [],
      "source": [
        "print(\"Sample cats image:\")\n",
        "plt.imshow(load_img(f\"{os.path.join(train_cats_dir, os.listdir(train_cats_dir)[0])}\"))\n",
        "plt.show()\n",
        "\n",
        "print(\"\\nSample dogs image:\")\n",
        "plt.imshow(load_img(f\"{os.path.join(train_dogs_dir, os.listdir(train_dogs_dir)[0])}\"))\n",
        "plt.show()"
      ]
    }
  ]
}