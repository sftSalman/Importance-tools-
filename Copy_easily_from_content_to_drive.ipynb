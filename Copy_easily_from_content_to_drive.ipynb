{
  "nbformat": 4,
  "nbformat_minor": 0,
  "metadata": {
    "colab": {
      "name": "Copy_easily_from_content_to_drive.ipynb",
      "provenance": [],
      "authorship_tag": "ABX9TyNPjiJGRy/+ioGVnDz+fluy",
      "include_colab_link": true
    },
    "kernelspec": {
      "name": "python3",
      "display_name": "Python 3"
    },
    "language_info": {
      "name": "python"
    }
  },
  "cells": [
    {
      "cell_type": "markdown",
      "metadata": {
        "id": "view-in-github",
        "colab_type": "text"
      },
      "source": [
        "<a href=\"https://colab.research.google.com/github/sftSalman/Importance-tools-/blob/main/Copy_easily_from_content_to_drive.ipynb\" target=\"_parent\"><img src=\"https://colab.research.google.com/assets/colab-badge.svg\" alt=\"Open In Colab\"/></a>"
      ]
    },
    {
      "cell_type": "code",
      "execution_count": null,
      "metadata": {
        "id": "-3LoZw4Uz1ZL"
      },
      "outputs": [],
      "source": [
        "import shutil\n",
        "colab_link = \"/content/horse-or-human.zip\"\n",
        "gdrive_link = \"/content/drive/MyDrive/Deep Learning/tensorFlow/Untitled Folder/\"\n",
        "shutil.copy(colab_link, gdrive_link)"
      ]
    },
    {
      "cell_type": "code",
      "source": [
        "import shutil\n",
        "colab_link = \"/content/filename.type\"\n",
        "gdrive_link = \"/content/drive/MyDrive/foldername/\"\n",
        "shutil.copy(colab_link, gdrive_link)"
      ],
      "metadata": {
        "id": "EoA-NJWD1-Pc"
      },
      "execution_count": null,
      "outputs": []
    }
  ]
}