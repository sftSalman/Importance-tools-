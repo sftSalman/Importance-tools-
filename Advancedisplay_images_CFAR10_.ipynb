{
  "nbformat": 4,
  "nbformat_minor": 0,
  "metadata": {
    "colab": {
      "name": "Advancedisplay_images_CFAR10_.ipynb",
      "provenance": [],
      "authorship_tag": "ABX9TyNnKSHT/FzgCvZ/5DLfQdD+",
      "include_colab_link": true
    },
    "kernelspec": {
      "name": "python3",
      "display_name": "Python 3"
    },
    "language_info": {
      "name": "python"
    }
  },
  "cells": [
    {
      "cell_type": "markdown",
      "metadata": {
        "id": "view-in-github",
        "colab_type": "text"
      },
      "source": [
        "<a href=\"https://colab.research.google.com/github/sftSalman/Importance-tools-/blob/main/Advancedisplay_images_CFAR10_.ipynb\" target=\"_parent\"><img src=\"https://colab.research.google.com/assets/colab-badge.svg\" alt=\"Open In Colab\"/></a>"
      ]
    },
    {
      "cell_type": "code",
      "execution_count": null,
      "metadata": {
        "id": "6FoJwvyt8POh"
      },
      "outputs": [],
      "source": [
        "#@title Visualization Utilities [RUN ME]\n",
        "# matplotlib config\n",
        "plt.rc('image', cmap='gray')\n",
        "plt.rc('grid', linewidth=0)\n",
        "plt.rc('xtick', top=False, bottom=False, labelsize='large')\n",
        "plt.rc('ytick', left=False, right=False, labelsize='large')\n",
        "plt.rc('axes', facecolor=\"F8F8F8\", titlesize=\"large\", edgecolor=\"white\")\n",
        "plt.rc('text', color=\"A8151A\")\n",
        "plt.rc('figure', facecolor=\"F0F0F0\")\n",
        "MATPLOTLIB_FONT_DIR = os.path.join(os.path.dirname(plt.__file__), \"mpl-data/fonts/ttf\")\n",
        "\n",
        "# utility to display a row of digits with their predictions\n",
        "def display_images(digits, predictions, labels, title):\n",
        "\n",
        "  n = 10\n",
        "\n",
        "  indexes = np.random.choice(len(predictions), size=n)\n",
        "  n_digits = digits[indexes]\n",
        "  n_predictions = predictions[indexes]\n",
        "  n_predictions = n_predictions.reshape((n,))\n",
        "  n_labels = labels[indexes]\n",
        "\n",
        "  fig = plt.figure(figsize=(20, 4))\n",
        "  plt.title(title)\n",
        "  plt.yticks([])\n",
        "  plt.xticks([])\n",
        "\n",
        "  for i in range(10):\n",
        "    ax = fig.add_subplot(1, 10, i+1)\n",
        "    class_index = n_predictions[i]\n",
        "\n",
        "    plt.xlabel(classes[class_index])\n",
        "    plt.yticks([])\n",
        "    plt.xticks([])\n",
        "    plt.imshow(n_digits[i])\n",
        "  plt.show()\n",
        "  \n",
        "# utility to display training and validation curves\n",
        "def plot_metrics(metric_name, title, ylim=5):\n",
        "  plt.title(title)\n",
        "  plt.ylim(0,ylim)\n",
        "  plt.plot(history.history[metric_name],color='blue',label=metric_name)\n",
        "  plt.plot(history.history['val_' + metric_name],color='green',label='val_' + metric_name)"
      ]
    },
    {
      "cell_type": "code",
      "source": [
        "(training_images, training_labels), (validation_images, validation_labels) = tf.keras.datasets.cifar10.load_data()\n"
      ],
      "metadata": {
        "id": "oksJsI0b8dPA"
      },
      "execution_count": null,
      "outputs": []
    },
    {
      "cell_type": "code",
      "source": [
        "display_images(training_images, training_labels, training_labels, \"Training Data\")"
      ],
      "metadata": {
        "id": "VQvf2QHW8kN8"
      },
      "execution_count": null,
      "outputs": []
    },
    {
      "cell_type": "code",
      "source": [
        "display_images(validation_images, validation_labels, validation_labels, \"Validation Data\")"
      ],
      "metadata": {
        "id": "wSMLJq1R8mda"
      },
      "execution_count": null,
      "outputs": []
    }
  ]
}