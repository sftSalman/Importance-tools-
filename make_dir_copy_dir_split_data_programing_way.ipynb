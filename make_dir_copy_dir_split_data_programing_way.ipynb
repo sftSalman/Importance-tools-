{
  "nbformat": 4,
  "nbformat_minor": 0,
  "metadata": {
    "colab": {
      "name": "make_dir_copy_dir_split_data_programing_way.ipynb",
      "provenance": [],
      "mount_file_id": "14Nmg76zb3xyFa98qPkjKGfAqehFeRNQv",
      "authorship_tag": "ABX9TyOqWpaadJSlZAdhpeH+scyW",
      "include_colab_link": true
    },
    "kernelspec": {
      "name": "python3",
      "display_name": "Python 3"
    },
    "language_info": {
      "name": "python"
    },
    "accelerator": "GPU",
    "gpuClass": "standard"
  },
  "cells": [
    {
      "cell_type": "markdown",
      "metadata": {
        "id": "view-in-github",
        "colab_type": "text"
      },
      "source": [
        "<a href=\"https://colab.research.google.com/github/sftSalman/Importance-tools-/blob/main/make_dir_copy_dir_split_data_programing_way.ipynb\" target=\"_parent\"><img src=\"https://colab.research.google.com/assets/colab-badge.svg\" alt=\"Open In Colab\"/></a>"
      ]
    },
    {
      "cell_type": "code",
      "execution_count": 25,
      "metadata": {
        "id": "5uwknE_Oary1"
      },
      "outputs": [],
      "source": [
        "import os \n",
        "import zipfile \n",
        "import random \n",
        "import shutil \n",
        "import tensorflow as tf\n",
        "from shutil import copyfile\n",
        "from tensorflow.keras.preprocessing.image import ImageDataGenerator\n",
        "import matplotlib.pyplot as plt\n"
      ]
    },
    {
      "cell_type": "code",
      "source": [
        "local_zip = '/content/drive/MyDrive/Deep Learning/tensorFlow/new_cats_dog/cats_dogs.zip'\n",
        "zip_ref   = zipfile.ZipFile(local_zip, 'r')\n",
        "zip_ref.extractall('/content/drive/MyDrive/Deep Learning/tensorFlow/NewDATA_cats_dogs')\n",
        "zip_ref.close()"
      ],
      "metadata": {
        "id": "8ll1WvLEdMaa"
      },
      "execution_count": 8,
      "outputs": []
    },
    {
      "cell_type": "code",
      "source": [
        "source_path='/content/drive/MyDrive/Deep Learning/tensorFlow/NewDATA_cats_dogs/PetImages'"
      ],
      "metadata": {
        "id": "eUCay6dubmua"
      },
      "execution_count": 26,
      "outputs": []
    },
    {
      "cell_type": "code",
      "source": [
        "source_path_dogs = os.path.join(source_path,'Dog')\n",
        "source_path_cats = os.path.join(source_path,'Cat')"
      ],
      "metadata": {
        "id": "Sij6FSmZcF2c"
      },
      "execution_count": 27,
      "outputs": []
    },
    {
      "cell_type": "code",
      "source": [
        "len(os.listdir((source_path_cats)))"
      ],
      "metadata": {
        "colab": {
          "base_uri": "https://localhost:8080/"
        },
        "id": "AeCag96Ecbl3",
        "outputId": "7abd7963-be4e-40be-f512-aeeaf31da96f"
      },
      "execution_count": 28,
      "outputs": [
        {
          "output_type": "execute_result",
          "data": {
            "text/plain": [
              "12501"
            ]
          },
          "metadata": {},
          "execution_count": 28
        }
      ]
    },
    {
      "cell_type": "code",
      "source": [
        "root_dir= '/content/drive/MyDrive/Deep Learning/tensorFlow/cats-v-dogs'"
      ],
      "metadata": {
        "id": "GdUCKjuAce10"
      },
      "execution_count": 12,
      "outputs": []
    },
    {
      "cell_type": "code",
      "source": [
        "if os.path.exists(root_dir):\n",
        "  shutil.rmtree(root_dir)"
      ],
      "metadata": {
        "id": "cb66yj98gn5r"
      },
      "execution_count": 13,
      "outputs": []
    },
    {
      "cell_type": "code",
      "source": [
        "def create_train_test_dirs(root_path):\n",
        "  os.makedirs(os.path.join(f'{root_path}/training'))\n",
        "  os.makedirs(os.path.join(f'{root_path}/training','dogs'))\n",
        "  os.makedirs(os.path.join(f'{root_path}/training','cats'))\n",
        "  os.makedirs(os.path.join(f'{root_path}/testing'))\n",
        "  os.makedirs(os.path.join(f'{root_path}/testing','dogs'))\n",
        "  os.makedirs(os.path.join(f'{root_path}/testing','cats'))\n",
        "\n",
        "  \n"
      ],
      "metadata": {
        "id": "r1-n2F9Sg5XU"
      },
      "execution_count": 17,
      "outputs": []
    },
    {
      "cell_type": "code",
      "source": [
        "try:\n",
        "  create_train_test_dirs(root_path=root_dir)\n",
        "except FileExistsError:\n",
        "  print(\"You should not be seeing this since the upper directory is removed beforehand\")"
      ],
      "metadata": {
        "id": "pW_8tzUhj0bd"
      },
      "execution_count": 18,
      "outputs": []
    },
    {
      "cell_type": "code",
      "source": [
        "for rootdir, dirs, files in os.walk(root_dir):\n",
        "    for subdir in dirs:\n",
        "        print(os.path.join(rootdir, subdir))"
      ],
      "metadata": {
        "colab": {
          "base_uri": "https://localhost:8080/"
        },
        "id": "X9Y4JmfXkARm",
        "outputId": "aafc284c-7edd-4d0d-ab64-6100034cf828"
      },
      "execution_count": 29,
      "outputs": [
        {
          "output_type": "stream",
          "name": "stdout",
          "text": [
            "/content/drive/MyDrive/Deep Learning/tensorFlow/cats-v-dogs/training\n",
            "/content/drive/MyDrive/Deep Learning/tensorFlow/cats-v-dogs/testing\n",
            "/content/drive/MyDrive/Deep Learning/tensorFlow/cats-v-dogs/training/dogs\n",
            "/content/drive/MyDrive/Deep Learning/tensorFlow/cats-v-dogs/training/cats\n",
            "/content/drive/MyDrive/Deep Learning/tensorFlow/cats-v-dogs/testing/dogs\n",
            "/content/drive/MyDrive/Deep Learning/tensorFlow/cats-v-dogs/testing/cats\n"
          ]
        }
      ]
    },
    {
      "cell_type": "code",
      "source": [
        "def split_data(source,training,testing,split_size):\n",
        "  shuffled_source = random.sample(os.listdir(source),len(os.listdir(source)))\n",
        "  training_number = int(len(shuffled_source)*split_size)\n",
        "  \n",
        "\n",
        "  i = 0\n",
        "  target = training\n",
        "  for item in shuffled_source:\n",
        "    item_source = os.path.join(source,item)\n",
        "    if os.path.getsize(item_source)==0:\n",
        "      print(f'{item} is zero length , so ignoring')\n",
        "    else :\n",
        "      copyfile(item_source,os.path.join(target,item))\n",
        "      i += 1\n",
        "\n",
        "\n",
        "\n",
        "    if i == training_number:\n",
        "      target = testing"
      ],
      "metadata": {
        "id": "EJsSKNwAkOfu"
      },
      "execution_count": 30,
      "outputs": []
    },
    {
      "cell_type": "code",
      "source": [
        "cat_source_dir = '/content/drive/MyDrive/Deep Learning/tensorFlow/NewDATA_cats_dogs/PetImages/Cat'\n",
        "dog_source_dir = '/content/drive/MyDrive/Deep Learning/tensorFlow/NewDATA_cats_dogs/PetImages/Dog'\n",
        "\n",
        "training_dir = '/content/drive/MyDrive/Deep Learning/tensorFlow/cats-v-dogs/training'\n",
        "testing_dir = '/content/drive/MyDrive/Deep Learning/tensorFlow/cats-v-dogs/testing'\n",
        "\n",
        "training_cats_dir = os.path.join(training_dir,'cats/')\n",
        "testing_cats_dir = os.path.join(testing_dir,'cats/')\n",
        "\n",
        "training_dogs_dir = os.path.join(training_dir,'dogs/')\n",
        "testing_dogs_dir = os.path.join(testing_dir,'dogs/')\n",
        "\n",
        "if len(os.listdir(training_cats_dir)) > 0:\n",
        "  for file in os.scandir(training_cats_dir):\n",
        "    os.remove(file.path)\n",
        "if len(os.listdir(training_dogs_dir)) > 0:\n",
        "  for file in os.scandir(training_dogs_dir):\n",
        "    os.remove(file.path)\n",
        "if len(os.listdir(testing_cats_dir)) > 0:\n",
        "  for file in os.scandir(testing_cats_dir):\n",
        "    os.remove(file.path)\n",
        "if len(os.listdir(testing_dogs_dir)) > 0:\n",
        "  for file in os.scandir(testing_dogs_dir):\n",
        "    os.remove(file.path)\n",
        "\n",
        "split_size = .9\n",
        "split_data(cat_source_dir,training_cats_dir,testing_cats_dir,split_size)\n",
        "split_data(dog_source_dir, training_dogs_dir, testing_dogs_dir, split_size)\n"
      ],
      "metadata": {
        "colab": {
          "base_uri": "https://localhost:8080/"
        },
        "id": "OGcXPPA5lqNO",
        "outputId": "f2c32be2-ee56-4553-f798-cd77d0e6b645"
      },
      "execution_count": 33,
      "outputs": [
        {
          "output_type": "stream",
          "name": "stdout",
          "text": [
            "666.jpg is zero length , so ignoring\n",
            "11702.jpg is zero length , so ignoring\n"
          ]
        }
      ]
    },
    {
      "cell_type": "code",
      "source": [
        "print(f\"\\n\\nThere are {len(os.listdir(training_cats_dir))} images of cats for training\")\n",
        "print(f\"There are {len(os.listdir(training_dogs_dir))} images of dogs for training\")\n",
        "print(f\"There are {len(os.listdir(testing_cats_dir))} images of cats for testing\")\n",
        "print(f\"There are {len(os.listdir(testing_dogs_dir))} images of dogs for testing\")"
      ],
      "metadata": {
        "colab": {
          "base_uri": "https://localhost:8080/"
        },
        "id": "ZgH6YM0Ir1-i",
        "outputId": "e712c228-d1ac-4961-b803-7f6fcf7f5a6e"
      },
      "execution_count": 35,
      "outputs": [
        {
          "output_type": "stream",
          "name": "stdout",
          "text": [
            "\n",
            "\n",
            "There are 11250 images of cats for training\n",
            "There are 11250 images of dogs for training\n",
            "There are 1250 images of cats for testing\n",
            "There are 1250 images of dogs for testing\n"
          ]
        }
      ]
    },
    {
      "cell_type": "code",
      "source": [
        ""
      ],
      "metadata": {
        "id": "0OUl6bURt7OP"
      },
      "execution_count": null,
      "outputs": []
    }
  ]
}